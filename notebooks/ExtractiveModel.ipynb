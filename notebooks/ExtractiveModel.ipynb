{
 "cells": [
  {
   "cell_type": "code",
   "execution_count": 1,
   "metadata": {},
   "outputs": [],
   "source": [
    "from src.modelling.extractive_model import ExtractiveSummarizer\n",
    "import os"
   ]
  },
  {
   "cell_type": "code",
   "execution_count": 7,
   "metadata": {},
   "outputs": [],
   "source": [
    "DATA_ORIGINAL = 'news'\n",
    "DATA_SUMMARIZED = 'summary'\n",
    "TEST_INDEX = 1\n",
    "SAMPLE_SIZE = 10\n",
    "RANDOM_SEED = 42"
   ]
  },
  {
   "cell_type": "code",
   "execution_count": 4,
   "metadata": {},
   "outputs": [],
   "source": [
    "summarizer = ExtractiveSummarizer()\n",
    "data_path = os.path.join(os.getcwd(), r\"data\\bbc_news.csv\")\n",
    "data = summarizer._load_data(data_path)"
   ]
  },
  {
   "cell_type": "markdown",
   "metadata": {},
   "source": [
    "#### Original text"
   ]
  },
  {
   "cell_type": "code",
   "execution_count": 5,
   "metadata": {},
   "outputs": [
    {
     "name": "stdout",
     "output_type": "stream",
     "text": [
      "b'Dollar gains on Greenspan speech\\n\\nThe dollar has hit its highest level against the euro in almost three months after the Federal Reserve head said the US trade deficit is set to stabilise.\\n\\nAnd Alan Greenspan highlighted the US government\\'s willingness to curb spending and rising household savings as factors which may help to reduce it. In late trading in New York, the dollar reached $1.2871 against the euro, from $1.2974 on Thursday. Market concerns about the deficit has hit the greenback in recent months. On Friday, Federal Reserve chairman Mr Greenspan\\'s speech in London ahead of the meeting of G7 finance ministers sent the dollar higher after it had earlier tumbled on the back of worse-than-expected US jobs data. \"I think the chairman\\'s taking a much more sanguine view on the current account deficit than he\\'s taken for some time,\" said Robert Sinche, head of currency strategy at Bank of America in New York. \"He\\'s taking a longer-term view, laying out a set of conditions under which the current account deficit can improve this year and next.\"\\n\\nWorries about the deficit concerns about China do, however, remain. China\\'s currency remains pegged to the dollar and the US currency\\'s sharp falls in recent months have therefore made Chinese export prices highly competitive. But calls for a shift in Beijing\\'s policy have fallen on deaf ears, despite recent comments in a major Chinese newspaper that the \"time is ripe\" for a loosening of the peg. The G7 meeting is thought unlikely to produce any meaningful movement in Chinese policy. In the meantime, the US Federal Reserve\\'s decision on 2 February to boost interest rates by a quarter of a point - the sixth such move in as many months - has opened up a differential with European rates. The half-point window, some believe, could be enough to keep US assets looking more attractive, and could help prop up the dollar. The recent falls have partly been the result of big budget deficits, as well as the US\\'s yawning current account gap, both of which need to be funded by the buying of US bonds and assets by foreign firms and governments. The White House will announce its budget on Monday, and many commentators believe the deficit will remain at close to half a trillion dollars.\\n'\n"
     ]
    }
   ],
   "source": [
    "input_text = data[DATA_ORIGINAL][TEST_INDEX]\n",
    "print(input_text)"
   ]
  },
  {
   "cell_type": "markdown",
   "metadata": {},
   "source": [
    "#### Actual summarized text from dataset"
   ]
  },
  {
   "cell_type": "code",
   "execution_count": 8,
   "metadata": {},
   "outputs": [
    {
     "name": "stdout",
     "output_type": "stream",
     "text": [
      "b'The dollar has hit its highest level against the euro in almost three months after the Federal Reserve head said the US trade deficit is set to stabilise.China\\'s currency remains pegged to the dollar and the US currency\\'s sharp falls in recent months have therefore made Chinese export prices highly competitive.Market concerns about the deficit has hit the greenback in recent months.\"I think the chairman\\'s taking a much more sanguine view on the current account deficit than he\\'s taken for some time,\" said Robert Sinche, head of currency strategy at Bank of America in New York.The recent falls have partly been the result of big budget deficits, as well as the US\\'s yawning current account gap, both of which need to be funded by the buying of US bonds and assets by foreign firms and governments.\"He\\'s taking a longer-term view, laying out a set of conditions under which the current account deficit can improve this year and next.\"'\n"
     ]
    }
   ],
   "source": [
    "actual_summarized_text = data[DATA_SUMMARIZED][TEST_INDEX]\n",
    "print(actual_summarized_text)"
   ]
  },
  {
   "cell_type": "markdown",
   "metadata": {},
   "source": [
    "#### Summarized text"
   ]
  },
  {
   "cell_type": "code",
   "execution_count": 10,
   "metadata": {},
   "outputs": [
    {
     "name": "stdout",
     "output_type": "stream",
     "text": [
      "China\\'s currency remains pegged to the dollar and the US currency\\'s sharp falls in recent months have therefore made Chinese export prices highly competitive. \"He\\'s taking a longer-term view, laying out a set of conditions under which the current account deficit can improve this year and next. The half-point window, some believe, could be enough to keep US assets looking more attractive, and could help prop up the dollar. The White House will announce its budget on Monday, and many commentators believe the deficit will remain at close to half a trillion dollars.\\n' Market concerns about the deficit has hit the greenback in recent months. \"\\n\\nWorries about the deficit concerns about China do, however, remain. In late trading in New York, the dollar reached $1.2871 against the euro, from $1.2974 on Thursday.\n"
     ]
    }
   ],
   "source": [
    "summary = summarizer.predict(input_text)\n",
    "print(summary)"
   ]
  },
  {
   "cell_type": "code",
   "execution_count": null,
   "metadata": {},
   "outputs": [],
   "source": []
  },
  {
   "cell_type": "markdown",
   "metadata": {},
   "source": [
    "#### Evaluation"
   ]
  },
  {
   "cell_type": "code",
   "execution_count": 6,
   "metadata": {},
   "outputs": [
    {
     "data": {
      "text/html": [
       "<div>\n",
       "<style scoped>\n",
       "    .dataframe tbody tr th:only-of-type {\n",
       "        vertical-align: middle;\n",
       "    }\n",
       "\n",
       "    .dataframe tbody tr th {\n",
       "        vertical-align: top;\n",
       "    }\n",
       "\n",
       "    .dataframe thead th {\n",
       "        text-align: right;\n",
       "    }\n",
       "</style>\n",
       "<table border=\"1\" class=\"dataframe\">\n",
       "  <thead>\n",
       "    <tr style=\"text-align: right;\">\n",
       "      <th></th>\n",
       "      <th>news</th>\n",
       "      <th>summary</th>\n",
       "      <th>type</th>\n",
       "    </tr>\n",
       "  </thead>\n",
       "  <tbody>\n",
       "    <tr>\n",
       "      <th>0</th>\n",
       "      <td>b'Ad sales boost Time Warner profit\\n\\nQuarter...</td>\n",
       "      <td>b\"TimeWarner said fourth quarter sales rose 2%...</td>\n",
       "      <td>business</td>\n",
       "    </tr>\n",
       "    <tr>\n",
       "      <th>1</th>\n",
       "      <td>b'Dollar gains on Greenspan speech\\n\\nThe doll...</td>\n",
       "      <td>b'The dollar has hit its highest level against...</td>\n",
       "      <td>business</td>\n",
       "    </tr>\n",
       "    <tr>\n",
       "      <th>2</th>\n",
       "      <td>b'Yukos unit buyer faces loan claim\\n\\nThe own...</td>\n",
       "      <td>b'Yukos\\' owner Menatep Group says it will ask...</td>\n",
       "      <td>business</td>\n",
       "    </tr>\n",
       "    <tr>\n",
       "      <th>3</th>\n",
       "      <td>b'High fuel prices hit BA\\'s profits\\n\\nBritis...</td>\n",
       "      <td>b'Rod Eddington, BA\\'s chief executive, said t...</td>\n",
       "      <td>business</td>\n",
       "    </tr>\n",
       "    <tr>\n",
       "      <th>4</th>\n",
       "      <td>b\"Pernod takeover talk lifts Domecq\\n\\nShares ...</td>\n",
       "      <td>b\"Pernod has reduced the debt it took on to fu...</td>\n",
       "      <td>business</td>\n",
       "    </tr>\n",
       "    <tr>\n",
       "      <th>...</th>\n",
       "      <td>...</td>\n",
       "      <td>...</td>\n",
       "      <td>...</td>\n",
       "    </tr>\n",
       "    <tr>\n",
       "      <th>2220</th>\n",
       "      <td>b'BT program to beat dialler scams\\n\\nBT is in...</td>\n",
       "      <td>b'BT is introducing two initiatives to help be...</td>\n",
       "      <td>tech</td>\n",
       "    </tr>\n",
       "    <tr>\n",
       "      <th>2221</th>\n",
       "      <td>b'Spam e-mails tempt net shoppers\\n\\nComputer ...</td>\n",
       "      <td>b'A third of them read unsolicited junk e-mail...</td>\n",
       "      <td>tech</td>\n",
       "    </tr>\n",
       "    <tr>\n",
       "      <th>2222</th>\n",
       "      <td>b'Be careful how you code\\n\\nA new European di...</td>\n",
       "      <td>b\"This goes to the heart of the European proje...</td>\n",
       "      <td>tech</td>\n",
       "    </tr>\n",
       "    <tr>\n",
       "      <th>2223</th>\n",
       "      <td>b'US cyber security chief resigns\\n\\nThe man m...</td>\n",
       "      <td>b\"Amit Yoran was director of the National Cybe...</td>\n",
       "      <td>tech</td>\n",
       "    </tr>\n",
       "    <tr>\n",
       "      <th>2224</th>\n",
       "      <td>b'Losing yourself in online gaming\\n\\nOnline r...</td>\n",
       "      <td>b'He says that in the world of online gaming s...</td>\n",
       "      <td>tech</td>\n",
       "    </tr>\n",
       "  </tbody>\n",
       "</table>\n",
       "<p>2225 rows × 3 columns</p>\n",
       "</div>"
      ],
      "text/plain": [
       "                                                   news  \\\n",
       "0     b'Ad sales boost Time Warner profit\\n\\nQuarter...   \n",
       "1     b'Dollar gains on Greenspan speech\\n\\nThe doll...   \n",
       "2     b'Yukos unit buyer faces loan claim\\n\\nThe own...   \n",
       "3     b'High fuel prices hit BA\\'s profits\\n\\nBritis...   \n",
       "4     b\"Pernod takeover talk lifts Domecq\\n\\nShares ...   \n",
       "...                                                 ...   \n",
       "2220  b'BT program to beat dialler scams\\n\\nBT is in...   \n",
       "2221  b'Spam e-mails tempt net shoppers\\n\\nComputer ...   \n",
       "2222  b'Be careful how you code\\n\\nA new European di...   \n",
       "2223  b'US cyber security chief resigns\\n\\nThe man m...   \n",
       "2224  b'Losing yourself in online gaming\\n\\nOnline r...   \n",
       "\n",
       "                                                summary      type  \n",
       "0     b\"TimeWarner said fourth quarter sales rose 2%...  business  \n",
       "1     b'The dollar has hit its highest level against...  business  \n",
       "2     b'Yukos\\' owner Menatep Group says it will ask...  business  \n",
       "3     b'Rod Eddington, BA\\'s chief executive, said t...  business  \n",
       "4     b\"Pernod has reduced the debt it took on to fu...  business  \n",
       "...                                                 ...       ...  \n",
       "2220  b'BT is introducing two initiatives to help be...      tech  \n",
       "2221  b'A third of them read unsolicited junk e-mail...      tech  \n",
       "2222  b\"This goes to the heart of the European proje...      tech  \n",
       "2223  b\"Amit Yoran was director of the National Cybe...      tech  \n",
       "2224  b'He says that in the world of online gaming s...      tech  \n",
       "\n",
       "[2225 rows x 3 columns]"
      ]
     },
     "execution_count": 6,
     "metadata": {},
     "output_type": "execute_result"
    }
   ],
   "source": [
    "summarizer = ExtractiveSummarizer()\n",
    "\n",
    "data_path = os.path.join(os.getcwd(), r\"data\\bbc_news.csv\")\n",
    "data = summarizer._load_data(data_path)\n",
    "data"
   ]
  },
  {
   "cell_type": "code",
   "execution_count": 16,
   "metadata": {},
   "outputs": [
    {
     "data": {
      "text/plain": [
       "414     b'UK house prices dip in November\\n\\nUK house ...\n",
       "420     b'LSE \\'sets date for takeover deal\\'\\n\\nThe L...\n",
       "1644    b'Harinordoquy suffers France axe\\n\\nNumber ei...\n",
       "416     b'Barclays shares up on merger talk\\n\\nShares ...\n",
       "1232    b'Campaign \\'cold calls\\' questioned\\n\\nLabour...\n",
       "1544    b'Wolves appoint Hoddle as manager\\n\\nGlenn Ho...\n",
       "1748    b'Hantuchova in Dubai last eight\\n\\nDaniela Ha...\n",
       "1264    b'BAA support ahead of court battle\\n\\nUK airp...\n",
       "629     b'\\'My memories of Marley...\\'\\n\\nTo mark the ...\n",
       "1043    b'Labour trio \\'had vote-rig factory\\'\\n\\nThre...\n",
       "Name: news, dtype: object"
      ]
     },
     "execution_count": 16,
     "metadata": {},
     "output_type": "execute_result"
    }
   ],
   "source": [
    "reference_data = data[DATA_ORIGINAL].sample(n=SAMPLE_SIZE, random_state=RANDOM_SEED)\n",
    "reference_data"
   ]
  },
  {
   "cell_type": "code",
   "execution_count": 18,
   "metadata": {},
   "outputs": [
    {
     "data": {
      "text/plain": [
       "414     b'All areas saw a rise in annual house price i...\n",
       "420     b'A \\xc2\\xa31.3bn offer from Deutsche Boerse h...\n",
       "1644    b'Harinordoquy was a second-half replacement i...\n",
       "416     b\"Shares in UK banking group Barclays have ris...\n",
       "1232    b'Assistant information commissioner Phil Jone...\n",
       "1544    b'Gray, who has been caretaker manager, was as...\n",
       "1748    b'Williams was also far from content.Davenport...\n",
       "1264    b'\"We do not underestimate the scale of the ch...\n",
       "629     b'\"Bob was a good player.That was the end of i...\n",
       "1043    b'\"When the officers left, all the envelopes a...\n",
       "Name: summary, dtype: object"
      ]
     },
     "execution_count": 18,
     "metadata": {},
     "output_type": "execute_result"
    }
   ],
   "source": [
    "reference_summary = data[DATA_SUMMARIZED].sample(n=SAMPLE_SIZE, random_state=RANDOM_SEED)\n",
    "reference_summary"
   ]
  },
  {
   "cell_type": "code",
   "execution_count": 15,
   "metadata": {},
   "outputs": [
    {
     "data": {
      "text/plain": [
       "414     But while the monthly figures may hint at a co...\n",
       "420     Speculation suggests that Paris-based Euronext...\n",
       "1644    France, who lost to Wales last week, must defe...\n",
       "416     Its North American divisions focus on business...\n",
       "1232    Assistant information commissioner Phil Jones ...\n",
       "1544    \"I\\'m delighted to be here,\" said Hoddle.\\n\\n\"...\n",
       "1748    \"I started well and finished well, but played ...\n",
       "1264    HACAN chairman John Stewart said: \"Almost exac...\n",
       "629     \"I\\'m sure if he were alive today he would bel...\n",
       "1043    The case against the men follows a hearing int...\n",
       "Name: news, dtype: object"
      ]
     },
     "execution_count": 15,
     "metadata": {},
     "output_type": "execute_result"
    }
   ],
   "source": [
    "candidate_data = reference_data.map(summarizer.predict)\n",
    "candidate_data"
   ]
  },
  {
   "cell_type": "code",
   "execution_count": 17,
   "metadata": {},
   "outputs": [
    {
     "name": "stdout",
     "output_type": "stream",
     "text": [
      "calculating scores...\n",
      "computing bert embedding.\n"
     ]
    },
    {
     "data": {
      "application/vnd.jupyter.widget-view+json": {
       "model_id": "8726af14be454b0a8bef7bba2459ae32",
       "version_major": 2,
       "version_minor": 0
      },
      "text/plain": [
       "HBox(children=(HTML(value=''), FloatProgress(value=0.0, max=1.0), HTML(value='')))"
      ]
     },
     "metadata": {},
     "output_type": "display_data"
    },
    {
     "name": "stdout",
     "output_type": "stream",
     "text": [
      "\n",
      "computing greedy matching.\n"
     ]
    },
    {
     "data": {
      "application/vnd.jupyter.widget-view+json": {
       "model_id": "5255044caa1549f8a24ea1c4d19e80c1",
       "version_major": 2,
       "version_minor": 0
      },
      "text/plain": [
       "HBox(children=(HTML(value=''), FloatProgress(value=0.0, max=1.0), HTML(value='')))"
      ]
     },
     "metadata": {},
     "output_type": "display_data"
    },
    {
     "name": "stdout",
     "output_type": "stream",
     "text": [
      "\n",
      "done in 97.06 seconds, 0.10 sentences/sec\n",
      "Precision: 0.9311454892158508\n",
      "Recall: 0.8612416982650757\n",
      "F1: 0.8946964144706726\n"
     ]
    }
   ],
   "source": [
    "precision, recall, f1 = summarizer.evaluation(preds=candidate_data, refs=reference_data)\n",
    "print(f'Precision: {precision}')\n",
    "print(f'Recall: {recall}')\n",
    "print(f'F1: {f1}')"
   ]
  },
  {
   "cell_type": "code",
   "execution_count": 19,
   "metadata": {},
   "outputs": [
    {
     "name": "stdout",
     "output_type": "stream",
     "text": [
      "calculating scores...\n",
      "computing bert embedding.\n"
     ]
    },
    {
     "data": {
      "application/vnd.jupyter.widget-view+json": {
       "model_id": "1725776b51064579b56d1f10e481ad59",
       "version_major": 2,
       "version_minor": 0
      },
      "text/plain": [
       "HBox(children=(HTML(value=''), FloatProgress(value=0.0, max=1.0), HTML(value='')))"
      ]
     },
     "metadata": {},
     "output_type": "display_data"
    },
    {
     "name": "stdout",
     "output_type": "stream",
     "text": [
      "\n",
      "computing greedy matching.\n"
     ]
    },
    {
     "data": {
      "application/vnd.jupyter.widget-view+json": {
       "model_id": "3a35f44692fc4bbe8bac826955f4a589",
       "version_major": 2,
       "version_minor": 0
      },
      "text/plain": [
       "HBox(children=(HTML(value=''), FloatProgress(value=0.0, max=1.0), HTML(value='')))"
      ]
     },
     "metadata": {},
     "output_type": "display_data"
    },
    {
     "name": "stdout",
     "output_type": "stream",
     "text": [
      "\n",
      "done in 51.34 seconds, 0.19 sentences/sec\n",
      "Precision: 0.9008392095565796\n",
      "Recall: 0.8920493125915527\n",
      "F1: 0.8963781595230103\n"
     ]
    }
   ],
   "source": [
    "precision, recall, f1 = summarizer.evaluation(preds=candidate_data, refs=reference_summary)\n",
    "print(f'Precision: {precision}')\n",
    "print(f'Recall: {recall}')\n",
    "print(f'F1: {f1}')"
   ]
  }
 ],
 "metadata": {
  "kernelspec": {
   "display_name": "Python 3",
   "language": "python",
   "name": "python3"
  },
  "language_info": {
   "codemirror_mode": {
    "name": "ipython",
    "version": 3
   },
   "file_extension": ".py",
   "mimetype": "text/x-python",
   "name": "python",
   "nbconvert_exporter": "python",
   "pygments_lexer": "ipython3",
   "version": "3.6.7"
  }
 },
 "nbformat": 4,
 "nbformat_minor": 4
}